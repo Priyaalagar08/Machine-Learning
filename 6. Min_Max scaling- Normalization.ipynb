{
 "cells": [
  {
   "cell_type": "markdown",
   "id": "0bb6c739-c1ac-40ce-9305-1161bfe582e7",
   "metadata": {},
   "source": [
    "# Import Libraries"
   ]
  },
  {
   "cell_type": "code",
   "execution_count": 1,
   "id": "12f6c3d5-e704-4e1e-8da8-676c9469a7ff",
   "metadata": {},
   "outputs": [],
   "source": [
    "import numpy as np\n",
    "import pandas as pd\n",
    "import matplotlib.pyplot as plt"
   ]
  },
  {
   "cell_type": "markdown",
   "id": "1af70dc0-8e8e-4621-9847-8b741f53190f",
   "metadata": {},
   "source": [
    "# Upload & view dataset"
   ]
  },
  {
   "cell_type": "code",
   "execution_count": 3,
   "id": "e00a689a-b2a2-4f10-b481-4fccdfa74c46",
   "metadata": {},
   "outputs": [
    {
     "data": {
      "text/html": [
       "<div>\n",
       "<style scoped>\n",
       "    .dataframe tbody tr th:only-of-type {\n",
       "        vertical-align: middle;\n",
       "    }\n",
       "\n",
       "    .dataframe tbody tr th {\n",
       "        vertical-align: top;\n",
       "    }\n",
       "\n",
       "    .dataframe thead th {\n",
       "        text-align: right;\n",
       "    }\n",
       "</style>\n",
       "<table border=\"1\" class=\"dataframe\">\n",
       "  <thead>\n",
       "    <tr style=\"text-align: right;\">\n",
       "      <th></th>\n",
       "      <th>class_label</th>\n",
       "      <th>alcohol</th>\n",
       "      <th>malic_acid</th>\n",
       "      <th>ash</th>\n",
       "      <th>alcalinity_of_ash</th>\n",
       "      <th>magnesium</th>\n",
       "      <th>total_phenols</th>\n",
       "      <th>flavanoids</th>\n",
       "      <th>nonflavanoid_phenols</th>\n",
       "      <th>proanthocyanins</th>\n",
       "      <th>color_intensity</th>\n",
       "      <th>hue</th>\n",
       "      <th>OD280/OD315_of_diluted_wines</th>\n",
       "      <th>proline</th>\n",
       "    </tr>\n",
       "  </thead>\n",
       "  <tbody>\n",
       "    <tr>\n",
       "      <th>0</th>\n",
       "      <td>1</td>\n",
       "      <td>14.23</td>\n",
       "      <td>1.71</td>\n",
       "      <td>2.43</td>\n",
       "      <td>15.6</td>\n",
       "      <td>127</td>\n",
       "      <td>2.80</td>\n",
       "      <td>3.06</td>\n",
       "      <td>0.28</td>\n",
       "      <td>2.29</td>\n",
       "      <td>5.64</td>\n",
       "      <td>1.04</td>\n",
       "      <td>3.92</td>\n",
       "      <td>1065</td>\n",
       "    </tr>\n",
       "    <tr>\n",
       "      <th>1</th>\n",
       "      <td>1</td>\n",
       "      <td>13.20</td>\n",
       "      <td>1.78</td>\n",
       "      <td>2.14</td>\n",
       "      <td>11.2</td>\n",
       "      <td>100</td>\n",
       "      <td>2.65</td>\n",
       "      <td>2.76</td>\n",
       "      <td>0.26</td>\n",
       "      <td>1.28</td>\n",
       "      <td>4.38</td>\n",
       "      <td>1.05</td>\n",
       "      <td>3.40</td>\n",
       "      <td>1050</td>\n",
       "    </tr>\n",
       "    <tr>\n",
       "      <th>2</th>\n",
       "      <td>1</td>\n",
       "      <td>13.16</td>\n",
       "      <td>2.36</td>\n",
       "      <td>2.67</td>\n",
       "      <td>18.6</td>\n",
       "      <td>101</td>\n",
       "      <td>2.80</td>\n",
       "      <td>3.24</td>\n",
       "      <td>0.30</td>\n",
       "      <td>2.81</td>\n",
       "      <td>5.68</td>\n",
       "      <td>1.03</td>\n",
       "      <td>3.17</td>\n",
       "      <td>1185</td>\n",
       "    </tr>\n",
       "    <tr>\n",
       "      <th>3</th>\n",
       "      <td>1</td>\n",
       "      <td>14.37</td>\n",
       "      <td>1.95</td>\n",
       "      <td>2.50</td>\n",
       "      <td>16.8</td>\n",
       "      <td>113</td>\n",
       "      <td>3.85</td>\n",
       "      <td>3.49</td>\n",
       "      <td>0.24</td>\n",
       "      <td>2.18</td>\n",
       "      <td>7.80</td>\n",
       "      <td>0.86</td>\n",
       "      <td>3.45</td>\n",
       "      <td>1480</td>\n",
       "    </tr>\n",
       "    <tr>\n",
       "      <th>4</th>\n",
       "      <td>1</td>\n",
       "      <td>13.24</td>\n",
       "      <td>2.59</td>\n",
       "      <td>2.87</td>\n",
       "      <td>21.0</td>\n",
       "      <td>118</td>\n",
       "      <td>2.80</td>\n",
       "      <td>2.69</td>\n",
       "      <td>0.39</td>\n",
       "      <td>1.82</td>\n",
       "      <td>4.32</td>\n",
       "      <td>1.04</td>\n",
       "      <td>2.93</td>\n",
       "      <td>735</td>\n",
       "    </tr>\n",
       "  </tbody>\n",
       "</table>\n",
       "</div>"
      ],
      "text/plain": [
       "   class_label  alcohol  malic_acid   ash  alcalinity_of_ash  magnesium  \\\n",
       "0            1    14.23        1.71  2.43               15.6        127   \n",
       "1            1    13.20        1.78  2.14               11.2        100   \n",
       "2            1    13.16        2.36  2.67               18.6        101   \n",
       "3            1    14.37        1.95  2.50               16.8        113   \n",
       "4            1    13.24        2.59  2.87               21.0        118   \n",
       "\n",
       "   total_phenols  flavanoids  nonflavanoid_phenols  proanthocyanins  \\\n",
       "0           2.80        3.06                  0.28             2.29   \n",
       "1           2.65        2.76                  0.26             1.28   \n",
       "2           2.80        3.24                  0.30             2.81   \n",
       "3           3.85        3.49                  0.24             2.18   \n",
       "4           2.80        2.69                  0.39             1.82   \n",
       "\n",
       "   color_intensity   hue  OD280/OD315_of_diluted_wines  proline  \n",
       "0             5.64  1.04                          3.92     1065  \n",
       "1             4.38  1.05                          3.40     1050  \n",
       "2             5.68  1.03                          3.17     1185  \n",
       "3             7.80  0.86                          3.45     1480  \n",
       "4             4.32  1.04                          2.93      735  "
      ]
     },
     "execution_count": 3,
     "metadata": {},
     "output_type": "execute_result"
    }
   ],
   "source": [
    "df = pd.read_csv('wine_data.csv')\n",
    "#df\n",
    "df.head()"
   ]
  },
  {
   "cell_type": "markdown",
   "id": "29e026eb-d4e6-4662-9b01-8805aaa699a4",
   "metadata": {},
   "source": [
    "# Splitting dataset\n",
    "\n",
    "### Since we are performing only normalization we are not doing any EDA analysis here. Just we are going to perform Normalization to see the difference in the distribution of dataset."
   ]
  },
  {
   "cell_type": "code",
   "execution_count": 7,
   "id": "c5b4cac5-b652-4cc7-b14b-ef56efa27800",
   "metadata": {},
   "outputs": [
    {
     "name": "stdout",
     "output_type": "stream",
     "text": [
      "(178, 13)\n",
      "(178,)\n"
     ]
    }
   ],
   "source": [
    "X = df.drop('class_label', axis=1)\n",
    "y = df['class_label']\n",
    "print(X.shape)\n",
    "print(y.shape)"
   ]
  },
  {
   "cell_type": "code",
   "execution_count": 9,
   "id": "b6e273e2-f158-4234-836e-3a3c9de2e303",
   "metadata": {},
   "outputs": [],
   "source": [
    "from sklearn.model_selection import train_test_split\n",
    "X_train,X_test,y_train,y_test = train_test_split(X,y,test_size=0.2,random_state=42)"
   ]
  },
  {
   "cell_type": "markdown",
   "id": "5acf78d5-3810-4bf8-ad96-fd7dbd473dad",
   "metadata": {},
   "source": [
    "# Normalization\n",
    "### Here we are choosing Min Max scaler for normalization on our features that is X"
   ]
  },
  {
   "cell_type": "code",
   "execution_count": 16,
   "id": "c25f7cc9-16ba-4020-af3d-0267a2777c2d",
   "metadata": {},
   "outputs": [],
   "source": [
    "from sklearn.preprocessing import MinMaxScaler\n",
    "scaler = MinMaxScaler() # the minmax function is used here and it is stored in scaler data type\n",
    "X_train_norm = scaler.fit_transform(X_train) # feature training is normalized using fit_transform \n",
    "X_test_norm = scaler.fit_transform(X_test) # feature testing is normalized using fit_transform \n",
    "# We cannot print the X_test_norm directly because they contain 2D array and hence those doen not have column name \n",
    "#so to get the values with appropriate column name we need to convery numpy array to dataframe so the next 2 lines does that\n",
    "X_train_norm_df = pd.DataFrame(X_train_norm, columns=X.columns) \n",
    "X_test_norm_df = pd.DataFrame(X_test_norm, columns=X.columns)"
   ]
  },
  {
   "cell_type": "code",
   "execution_count": 17,
   "id": "12ea5e89-ae99-425e-8c84-685bb718bcf1",
   "metadata": {},
   "outputs": [
    {
     "name": "stdout",
     "output_type": "stream",
     "text": [
      "     alcohol  malic_acid   ash  alcalinity_of_ash  magnesium  total_phenols  \\\n",
      "158    14.34        1.68  2.70               25.0         98           2.80   \n",
      "137    12.53        5.51  2.64               25.0         96           1.79   \n",
      "98     12.37        1.07  2.10               18.5         88           3.52   \n",
      "159    13.48        1.67  2.64               22.5         89           2.60   \n",
      "38     13.07        1.50  2.10               15.5         98           2.40   \n",
      "\n",
      "     flavanoids  nonflavanoid_phenols  proanthocyanins  color_intensity   hue  \\\n",
      "158        1.31                  0.53             2.70            13.00  0.57   \n",
      "137        0.60                  0.63             1.10             5.00  0.82   \n",
      "98         3.75                  0.24             1.95             4.50  1.04   \n",
      "159        1.10                  0.52             2.29            11.75  0.57   \n",
      "38         2.64                  0.28             1.37             3.70  1.18   \n",
      "\n",
      "     OD280/OD315_of_diluted_wines  proline  \n",
      "158                          1.96      660  \n",
      "137                          1.69      515  \n",
      "98                           2.77      660  \n",
      "159                          1.78      620  \n",
      "38                           2.69     1020  \n"
     ]
    }
   ],
   "source": [
    "# Values before normalization\n",
    "print(X_train.head())"
   ]
  },
  {
   "cell_type": "code",
   "execution_count": 19,
   "id": "6f89268a-d47a-4767-9072-684dd5068748",
   "metadata": {},
   "outputs": [
    {
     "name": "stdout",
     "output_type": "stream",
     "text": [
      "    alcohol  malic_acid       ash  alcalinity_of_ash  magnesium  \\\n",
      "0  0.871053    0.160896  0.716578           0.742268   0.304348   \n",
      "1  0.394737    0.940937  0.684492           0.742268   0.282609   \n",
      "2  0.352632    0.036660  0.395722           0.407216   0.195652   \n",
      "3  0.644737    0.158859  0.684492           0.613402   0.206522   \n",
      "4  0.536842    0.124236  0.395722           0.252577   0.304348   \n",
      "\n",
      "   total_phenols  flavanoids  nonflavanoid_phenols  proanthocyanins  \\\n",
      "0       0.627586    0.204641              0.754717         0.721519   \n",
      "1       0.279310    0.054852              0.943396         0.215190   \n",
      "2       0.875862    0.719409              0.207547         0.484177   \n",
      "3       0.558621    0.160338              0.735849         0.591772   \n",
      "4       0.489655    0.485232              0.283019         0.300633   \n",
      "\n",
      "   color_intensity       hue  OD280/OD315_of_diluted_wines   proline  \n",
      "0         1.000000  0.073171                      0.252747  0.301024  \n",
      "1         0.289520  0.276423                      0.153846  0.186761  \n",
      "2         0.245115  0.455285                      0.549451  0.301024  \n",
      "3         0.888988  0.073171                      0.186813  0.269504  \n",
      "4         0.174067  0.569106                      0.520147  0.584712  \n"
     ]
    }
   ],
   "source": [
    "# values after normalization \n",
    "print(X_train_norm_df.head())"
   ]
  },
  {
   "cell_type": "markdown",
   "id": "e2e44268-9bb9-441b-b144-4909a5477506",
   "metadata": {},
   "source": [
    "### In above values we can clearly see the values of the training features has shown difference before and after normalization. Before normalization the values were random with different numbers. But after normalization it ranges between 0 and 1"
   ]
  },
  {
   "cell_type": "markdown",
   "id": "2c88fa07-9f0b-4d29-840b-8cae38afd7af",
   "metadata": {},
   "source": [
    "# Graph Plotting\n",
    "\n",
    "### For Alcohol"
   ]
  },
  {
   "cell_type": "code",
   "execution_count": 20,
   "id": "14bd9ccc-e145-4dc7-8e52-feca8b1b8fe4",
   "metadata": {},
   "outputs": [
    {
     "data": {
      "text/plain": [
       "Text(0.5, 1.0, 'Before Normalization: alcohol')"
      ]
     },
     "execution_count": 20,
     "metadata": {},
     "output_type": "execute_result"
    },
    {
     "data": {
      "image/png": "[encoded data removed]",
      "text/plain": [
       "<Figure size 640x480 with 1 Axes>"
      ]
     },
     "metadata": {},
     "output_type": "display_data"
    }
   ],
   "source": [
    "# Before Normalization - Alcohol\n",
    "plt.subplot(1,2,1)\n",
    "plt.hist(X['alcohol'], bins=15, color='skyblue', edgecolor='black')\n",
    "plt.title('Before Normalization: alcohol')"
   ]
  },
  {
   "cell_type": "code",
   "execution_count": 23,
   "id": "943e2c77-c5bc-498c-88e0-af20fcddc35e",
   "metadata": {},
   "outputs": [
    {
     "data": {
      "text/plain": [
       "Text(0.5, 1.0, 'After Normalization: alcohol')"
      ]
     },
     "execution_count": 23,
     "metadata": {},
     "output_type": "execute_result"
    },
    {
     "data": {
      "image/png": "[encoded data removed]",
      "text/plain": [
       "<Figure size 640x480 with 1 Axes>"
      ]
     },
     "metadata": {},
     "output_type": "display_data"
    }
   ],
   "source": [
    "# After Normalization - Alcohol\n",
    "plt.subplot(1,2,2)\n",
    "plt.hist(X_train_norm_df['alcohol'], bins=15, color='lightgreen', edgecolor='black')\n",
    "plt.title('After Normalization: alcohol')"
   ]
  },
  {
   "cell_type": "markdown",
   "id": "e3b38682-d968-4419-80ab-fe4785d23f7f",
   "metadata": {},
   "source": [
    "# Graph Plotting\n",
    "\n",
    "### For Malic acid"
   ]
  },
  {
   "cell_type": "code",
   "execution_count": 22,
   "id": "5aebf786-59de-450e-94d1-3760096265f6",
   "metadata": {},
   "outputs": [
    {
     "data": {
      "text/plain": [
       "Text(0.5, 1.0, 'Before Normalization: Malic acid')"
      ]
     },
     "execution_count": 22,
     "metadata": {},
     "output_type": "execute_result"
    },
    {
     "data": {
      "image/png": "[encoded data removed]",
      "text/plain": [
       "<Figure size 640x480 with 1 Axes>"
      ]
     },
     "metadata": {},
     "output_type": "display_data"
    }
   ],
   "source": [
    "# Before Normalization - Malic acid\n",
    "plt.subplot(1,2,1)\n",
    "plt.hist(X['malic_acid'], bins=15, color='skyblue', edgecolor='black')\n",
    "plt.title('Before Normalization: Malic acid')"
   ]
  },
  {
   "cell_type": "code",
   "execution_count": 24,
   "id": "7a0942b8-d9ed-499e-976a-0788a2f1c09e",
   "metadata": {},
   "outputs": [
    {
     "data": {
      "text/plain": [
       "Text(0.5, 1.0, 'After Normalization: Malic acid')"
      ]
     },
     "execution_count": 24,
     "metadata": {},
     "output_type": "execute_result"
    },
    {
     "data": {
      "image/png": "[encoded data removed]",
      "text/plain": [
       "<Figure size 640x480 with 1 Axes>"
      ]
     },
     "metadata": {},
     "output_type": "display_data"
    }
   ],
   "source": [
    "# After Normalization - Malic acid\n",
    "plt.subplot(1,2,2)\n",
    "plt.hist(X_train_norm_df['malic_acid'], bins=15, color='skyblue', edgecolor='black')\n",
    "plt.title('After Normalization: Malic acid')"
   ]
  },
  {
   "cell_type": "code",
   "execution_count": null,
   "id": "b0471a1b-2bc1-463b-be76-4da37cbb9117",
   "metadata": {},
   "outputs": [],
   "source": []
  }
 ],
 "metadata": {
  "kernelspec": {
   "display_name": "Python (Newenv)",
   "language": "python",
   "name": "newenv"
  },
  "language_info": {
   "codemirror_mode": {
    "name": "ipython",
    "version": 3
   },
   "file_extension": ".py",
   "mimetype": "text/x-python",
   "name": "python",
   "nbconvert_exporter": "python",
   "pygments_lexer": "ipython3",
   "version": "3.13.5"
  }
 },
 "nbformat": 4,
 "nbformat_minor": 5
}
